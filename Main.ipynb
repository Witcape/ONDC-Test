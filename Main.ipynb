{
  "nbformat": 4,
  "nbformat_minor": 0,
  "metadata": {
    "colab": {
      "provenance": [],
      "authorship_tag": "ABX9TyPInEXttvvP6t/TtZZ77aal",
      "include_colab_link": true
    },
    "kernelspec": {
      "name": "python3",
      "display_name": "Python 3"
    },
    "language_info": {
      "name": "python"
    }
  },
  "cells": [
    {
      "cell_type": "markdown",
      "metadata": {
        "id": "view-in-github",
        "colab_type": "text"
      },
      "source": [
        "<a href=\"https://colab.research.google.com/github/payal15604/ONDC-Test/blob/main/Main.ipynb\" target=\"_parent\"><img src=\"https://colab.research.google.com/assets/colab-badge.svg\" alt=\"Open In Colab\"/></a>"
      ]
    },
    {
      "cell_type": "code",
      "execution_count": 1,
      "metadata": {
        "colab": {
          "base_uri": "https://localhost:8080/"
        },
        "id": "V-5nwgcXoAdd",
        "outputId": "6494c6da-c73a-41c1-8389-54b3db3bc1a2"
      },
      "outputs": [
        {
          "output_type": "stream",
          "name": "stdout",
          "text": [
            "Collecting git+https://github.com/PrithivirajDamodaran/ZSIC.git\n",
            "  Cloning https://github.com/PrithivirajDamodaran/ZSIC.git to /tmp/pip-req-build-j0zac71f\n",
            "  Running command git clone --filter=blob:none --quiet https://github.com/PrithivirajDamodaran/ZSIC.git /tmp/pip-req-build-j0zac71f\n",
            "  Resolved https://github.com/PrithivirajDamodaran/ZSIC.git to commit dbd1a8b7db5a7ec7fcab168e818681aa11fd95ca\n",
            "  Preparing metadata (setup.py) ... \u001b[?25l\u001b[?25hdone\n",
            "Building wheels for collected packages: ZSIC\n",
            "  Building wheel for ZSIC (setup.py) ... \u001b[?25l\u001b[?25hdone\n",
            "  Created wheel for ZSIC: filename=ZSIC-1.0-py3-none-any.whl size=4795 sha256=7bf4948b3d6b33768f132f3962cb74447dc4a9af6b5133cbde0189bf8fadfb95\n",
            "  Stored in directory: /tmp/pip-ephem-wheel-cache-pp_c8na5/wheels/fe/07/71/0ba6ffc0d57206230fbaeeb8261f17d205bf0ba159fc1e167e\n",
            "Successfully built ZSIC\n",
            "Installing collected packages: ZSIC\n",
            "Successfully installed ZSIC-1.0\n",
            "Requirement already satisfied: transformers in /usr/local/lib/python3.10/dist-packages (4.35.2)\n",
            "Collecting transformers\n",
            "  Downloading transformers-4.37.2-py3-none-any.whl (8.4 MB)\n",
            "\u001b[2K     \u001b[90m━━━━━━━━━━━━━━━━━━━━━━━━━━━━━━━━━━━━━━━━\u001b[0m \u001b[32m8.4/8.4 MB\u001b[0m \u001b[31m11.2 MB/s\u001b[0m eta \u001b[36m0:00:00\u001b[0m\n",
            "\u001b[?25hRequirement already satisfied: filelock in /usr/local/lib/python3.10/dist-packages (from transformers) (3.13.1)\n",
            "Requirement already satisfied: huggingface-hub<1.0,>=0.19.3 in /usr/local/lib/python3.10/dist-packages (from transformers) (0.20.3)\n",
            "Requirement already satisfied: numpy>=1.17 in /usr/local/lib/python3.10/dist-packages (from transformers) (1.23.5)\n",
            "Requirement already satisfied: packaging>=20.0 in /usr/local/lib/python3.10/dist-packages (from transformers) (23.2)\n",
            "Requirement already satisfied: pyyaml>=5.1 in /usr/local/lib/python3.10/dist-packages (from transformers) (6.0.1)\n",
            "Requirement already satisfied: regex!=2019.12.17 in /usr/local/lib/python3.10/dist-packages (from transformers) (2023.12.25)\n",
            "Requirement already satisfied: requests in /usr/local/lib/python3.10/dist-packages (from transformers) (2.31.0)\n",
            "Requirement already satisfied: tokenizers<0.19,>=0.14 in /usr/local/lib/python3.10/dist-packages (from transformers) (0.15.1)\n",
            "Requirement already satisfied: safetensors>=0.4.1 in /usr/local/lib/python3.10/dist-packages (from transformers) (0.4.2)\n",
            "Requirement already satisfied: tqdm>=4.27 in /usr/local/lib/python3.10/dist-packages (from transformers) (4.66.1)\n",
            "Requirement already satisfied: fsspec>=2023.5.0 in /usr/local/lib/python3.10/dist-packages (from huggingface-hub<1.0,>=0.19.3->transformers) (2023.6.0)\n",
            "Requirement already satisfied: typing-extensions>=3.7.4.3 in /usr/local/lib/python3.10/dist-packages (from huggingface-hub<1.0,>=0.19.3->transformers) (4.9.0)\n",
            "Requirement already satisfied: charset-normalizer<4,>=2 in /usr/local/lib/python3.10/dist-packages (from requests->transformers) (3.3.2)\n",
            "Requirement already satisfied: idna<4,>=2.5 in /usr/local/lib/python3.10/dist-packages (from requests->transformers) (3.6)\n",
            "Requirement already satisfied: urllib3<3,>=1.21.1 in /usr/local/lib/python3.10/dist-packages (from requests->transformers) (2.0.7)\n",
            "Requirement already satisfied: certifi>=2017.4.17 in /usr/local/lib/python3.10/dist-packages (from requests->transformers) (2024.2.2)\n",
            "Installing collected packages: transformers\n",
            "  Attempting uninstall: transformers\n",
            "    Found existing installation: transformers 4.35.2\n",
            "    Uninstalling transformers-4.35.2:\n",
            "      Successfully uninstalled transformers-4.35.2\n",
            "Successfully installed transformers-4.37.2\n",
            "Cloning into 'ONDC-Test'...\n",
            "remote: Enumerating objects: 52, done.\u001b[K\n",
            "remote: Counting objects: 100% (52/52), done.\u001b[K\n",
            "remote: Compressing objects: 100% (50/50), done.\u001b[K\n",
            "remote: Total 52 (delta 23), reused 0 (delta 0), pack-reused 0\u001b[K\n",
            "Receiving objects: 100% (52/52), 25.28 KiB | 2.30 MiB/s, done.\n",
            "Resolving deltas: 100% (23/23), done.\n",
            "/content/ONDC-Test\n"
          ]
        }
      ],
      "source": [
        "!pip install git+https://github.com/PrithivirajDamodaran/ZSIC.git\n",
        "!pip install transformers -U\n",
        "\n",
        "!git clone https://github.com/payal15604/ONDC-Test\n",
        "%cd ONDC-Test"
      ]
    },
    {
      "cell_type": "code",
      "source": [
        "from zero_shot_text import zero_shot_text as ztext\n",
        "from zero_shot_image import zero_shot_image as zimg\n",
        "\n",
        "from text_summarizer import text_summarizer as t_sum\n",
        "from similarity_scoring import calculate_similarity as c_sim"
      ],
      "metadata": {
        "id": "MX6OQ7GnqLG6"
      },
      "execution_count": 5,
      "outputs": []
    },
    {
      "cell_type": "markdown",
      "source": [
        "JSON FILE WILL COME"
      ],
      "metadata": {
        "id": "vLNFLuV4ovQu"
      }
    },
    {
      "cell_type": "code",
      "source": [
        "name = 'tea'\n",
        "short_disc = ''' Tea is good, Tea rocks'''\n",
        "long_disc = ''' I was dumb, but when I drank tea, I am smort'''\n",
        "image = ''\n",
        "symbol = ''"
      ],
      "metadata": {
        "id": "0DcpN85MoxAg"
      },
      "execution_count": 6,
      "outputs": []
    },
    {
      "cell_type": "code",
      "source": [
        "labels = ['coffee','tea','shampoo']"
      ],
      "metadata": {
        "id": "KeW6WxpLtY2E"
      },
      "execution_count": 7,
      "outputs": []
    },
    {
      "cell_type": "code",
      "source": [
        "temp_name_score = ztext(name, labels)\n",
        "temp_sdisc_score = ztext(short_disc, labels)\n",
        "temp_ldisc_score = ztext(long_disc, labels)\n",
        "\n",
        "\n",
        "# name_sdisc_score = c_sim(temp_name_score, temp_sdisc_score, model=\"en_core_web_sm\")\n",
        "# name_ldisc_score = c_sim(temp_name_score, temp_ldisc_score, model=\"en_core_web_sm\")\n",
        "\n",
        "\n",
        "temp_summary = t_sum(long_disc)"
      ],
      "metadata": {
        "colab": {
          "base_uri": "https://localhost:8080/"
        },
        "id": "Z1gS9HM2tSaF",
        "outputId": "e30a037a-3e52-485b-8e46-41175d32faae"
      },
      "execution_count": 13,
      "outputs": [
        {
          "output_type": "stream",
          "name": "stdout",
          "text": [
            "{'sequence': 'tea', 'labels': ['tea', 'shampoo', 'coffee'], 'scores': [0.9972216486930847, 0.001405757269822061, 0.0013726343167945743]}\n",
            "{'sequence': ' Tea is good, Tea rocks', 'labels': ['tea', 'coffee', 'shampoo'], 'scores': [0.9981546401977539, 0.0010701215360313654, 0.0007752398960292339]}\n",
            "{'sequence': ' I was dumb, but when I drank tea, I am smort', 'labels': ['tea', 'coffee', 'shampoo'], 'scores': [0.995530366897583, 0.002487474586814642, 0.001982159912586212]}\n"
          ]
        }
      ]
    },
    {
      "cell_type": "code",
      "source": [
        "print(temp_name_score)\n",
        "print(temp_sdisc_score)\n",
        "print(temp_ldisc_score)\n",
        "print(temp_summary)"
      ],
      "metadata": {
        "colab": {
          "base_uri": "https://localhost:8080/"
        },
        "id": "VZkZ7ZDZy38f",
        "outputId": "d766eb11-39cb-443a-fbd0-e4d44e4e8aa2"
      },
      "execution_count": 14,
      "outputs": [
        {
          "output_type": "stream",
          "name": "stdout",
          "text": [
            "{'sequence': 'tea', 'labels': ['tea', 'shampoo', 'coffee'], 'scores': [0.9972216486930847, 0.001405757269822061, 0.0013726343167945743]}\n",
            "{'sequence': ' Tea is good, Tea rocks', 'labels': ['tea', 'coffee', 'shampoo'], 'scores': [0.9981546401977539, 0.0010701215360313654, 0.0007752398960292339]}\n",
            "{'sequence': ' I was dumb, but when I drank tea, I am smort', 'labels': ['tea', 'coffee', 'shampoo'], 'scores': [0.995530366897583, 0.002487474586814642, 0.001982159912586212]}\n",
            "when I drank tea, I am smortish. i was dumb, but when I drank tea, I am smortish.\n"
          ]
        }
      ]
    },
    {
      "cell_type": "code",
      "source": [],
      "metadata": {
        "id": "BYuNFRwjy7Cy"
      },
      "execution_count": null,
      "outputs": []
    }
  ]
}