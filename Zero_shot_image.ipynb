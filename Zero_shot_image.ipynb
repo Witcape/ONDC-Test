{
  "nbformat": 4,
  "nbformat_minor": 0,
  "metadata": {
    "colab": {
      "provenance": [],
      "authorship_tag": "ABX9TyP76PYxBsp0NkrUDAjCeF3B",
      "include_colab_link": true
    },
    "kernelspec": {
      "name": "python3",
      "display_name": "Python 3"
    },
    "language_info": {
      "name": "python"
    }
  },
  "cells": [
    {
      "cell_type": "markdown",
      "metadata": {
        "id": "view-in-github",
        "colab_type": "text"
      },
      "source": [
        "<a href=\"https://colab.research.google.com/github/Witcape/ONDC-Test/blob/main/Zero_shot_image.ipynb\" target=\"_parent\"><img src=\"https://colab.research.google.com/assets/colab-badge.svg\" alt=\"Open In Colab\"/></a>"
      ]
    },
    {
      "cell_type": "code",
      "execution_count": 1,
      "metadata": {
        "colab": {
          "base_uri": "https://localhost:8080/"
        },
        "id": "LtlrZ4GY_Fyh",
        "outputId": "df1f6417-a721-4e07-868b-cb32f663f281"
      },
      "outputs": [
        {
          "output_type": "stream",
          "name": "stdout",
          "text": [
            "Collecting git+https://github.com/PrithivirajDamodaran/ZSIC.git\n",
            "  Cloning https://github.com/PrithivirajDamodaran/ZSIC.git to /tmp/pip-req-build-yzqr7frl\n",
            "  Running command git clone --filter=blob:none --quiet https://github.com/PrithivirajDamodaran/ZSIC.git /tmp/pip-req-build-yzqr7frl\n",
            "  Resolved https://github.com/PrithivirajDamodaran/ZSIC.git to commit dbd1a8b7db5a7ec7fcab168e818681aa11fd95ca\n",
            "  Preparing metadata (setup.py) ... \u001b[?25l\u001b[?25hdone\n",
            "Building wheels for collected packages: ZSIC\n",
            "  Building wheel for ZSIC (setup.py) ... \u001b[?25l\u001b[?25hdone\n",
            "  Created wheel for ZSIC: filename=ZSIC-1.0-py3-none-any.whl size=4795 sha256=7c998066aa884badfefb69030cc4d193e1a65200f2bdb64af95227ffa51352c4\n",
            "  Stored in directory: /tmp/pip-ephem-wheel-cache-9qt1q70l/wheels/fe/07/71/0ba6ffc0d57206230fbaeeb8261f17d205bf0ba159fc1e167e\n",
            "Successfully built ZSIC\n",
            "Installing collected packages: ZSIC\n",
            "Successfully installed ZSIC-1.0\n",
            "Loading OpenAI CLIP model ViT-B/32 ...\n"
          ]
        },
        {
          "output_type": "stream",
          "name": "stderr",
          "text": [
            "100%|████████████████████████████████████████| 338M/338M [00:01<00:00, 198MiB/s]\n"
          ]
        },
        {
          "output_type": "stream",
          "name": "stdout",
          "text": [
            "Label language en ...\n",
            "{'image': 'http://images.cocodataset.org/val2017/000000039769.jpg', 'scores': (0.9940692, 0.0028907247, 0.002512698, 0.0005273576), 'labels': ('cats', 'lions', 'dogs', 'birds')}\n"
          ]
        }
      ],
      "source": [
        "!pip install git+https://github.com/PrithivirajDamodaran/ZSIC.git\n",
        "from ZSIC import ZeroShotImageClassification\n",
        "\n",
        "zsic = ZeroShotImageClassification()\n",
        "\n",
        "\n",
        "#Predictions\n",
        "preds = zsic(image=\"http://images.cocodataset.org/val2017/000000039769.jpg\",\n",
        "            candidate_labels=[\"birds\", \"lions\", \"cats\",\"dogs\"],\n",
        "            )\n",
        "print(preds)"
      ]
    },
    {
      "cell_type": "code",
      "source": [
        "# #Predictions\n",
        "# preds = zsic(image=\"https://imgcdn.shortlyst.com/ondc?u=https%3A%2F%2Fcdn.shopify.com%2Fs%2Ffiles%2F1%2F0661%2F9732%2F4035%2Fproducts%2FSoulflower-Coffee-Soap.jpg%3Fv%3D1685470435\",\n",
        "#             candidate_labels=[\"birds\", \"lions\", \"cats\",\"dogs\", \"sauce\", \"soap\"],\n",
        "#             )\n",
        "# print(preds)"
      ],
      "metadata": {
        "id": "d00rsQeY_N3r"
      },
      "execution_count": 2,
      "outputs": []
    },
    {
      "cell_type": "code",
      "source": [
        "def zero_shot_image(img, labels):\n",
        "  preds = zsic(\n",
        "      image = img,\n",
        "      candidate_labels = labels\n",
        "      )\n",
        "  print(preds)\n",
        "  return preds"
      ],
      "metadata": {
        "id": "xzM2csY-_QNC"
      },
      "execution_count": 3,
      "outputs": []
    },
    {
      "cell_type": "code",
      "source": [
        "image = \"https://images.heb.com/is/image/HEBGrocery/000970730\"\n",
        "labels=[\"birds\", \"lions\", \"cats\",\"dogs\", \"sauce\", \"tea\", \"coffee\", \"drink\"]"
      ],
      "metadata": {
        "id": "fpmzhgBW_oYh"
      },
      "execution_count": 4,
      "outputs": []
    },
    {
      "cell_type": "code",
      "source": [
        "zero_shot_image(image, labels)"
      ],
      "metadata": {
        "colab": {
          "base_uri": "https://localhost:8080/"
        },
        "id": "2gUcii-K_y9y",
        "outputId": "9d9848b0-5dbb-4ca3-9155-ae73bad30d31"
      },
      "execution_count": null,
      "outputs": [
        {
          "output_type": "stream",
          "name": "stdout",
          "text": [
            "{'image': 'https://images.heb.com/is/image/HEBGrocery/000970730', 'scores': (0.778595, 0.19852589, 0.008701665, 0.007168205, 0.0067720823, 0.0001464386, 6.6917746e-05, 2.3746798e-05), 'labels': ('drink', 'tea', 'lions', 'sauce', 'coffee', 'birds', 'dogs', 'cats')}\n"
          ]
        },
        {
          "output_type": "execute_result",
          "data": {
            "text/plain": [
              "{'image': 'https://images.heb.com/is/image/HEBGrocery/000970730',\n",
              " 'scores': (0.778595,\n",
              "  0.19852589,\n",
              "  0.008701665,\n",
              "  0.007168205,\n",
              "  0.0067720823,\n",
              "  0.0001464386,\n",
              "  6.6917746e-05,\n",
              "  2.3746798e-05),\n",
              " 'labels': ('drink',\n",
              "  'tea',\n",
              "  'lions',\n",
              "  'sauce',\n",
              "  'coffee',\n",
              "  'birds',\n",
              "  'dogs',\n",
              "  'cats')}"
            ]
          },
          "metadata": {},
          "execution_count": 38
        }
      ]
    },
    {
      "cell_type": "code",
      "source": [],
      "metadata": {
        "id": "64NUvZaGAJQP"
      },
      "execution_count": null,
      "outputs": []
    }
  ]
}